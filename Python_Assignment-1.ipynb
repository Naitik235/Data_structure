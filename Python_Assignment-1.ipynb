{
 "cells": [
  {
   "cell_type": "code",
   "execution_count": 1,
   "id": "c9249b48-af2c-4a26-b160-ab0eba42f20a",
   "metadata": {},
   "outputs": [
    {
     "data": {
      "text/plain": [
       "'olleH'"
      ]
     },
     "execution_count": 1,
     "metadata": {},
     "output_type": "execute_result"
    }
   ],
   "source": [
    "#Q.1 Write code to reverse string.\n",
    "\n",
    "def reverse_string(x):\n",
    "    a = x[::-1]\n",
    "    return a\n",
    "string = 'Hello'\n",
    "\n",
    "reverse_string(string)"
   ]
  },
  {
   "cell_type": "code",
   "execution_count": 2,
   "id": "1bdd22ed-817a-4d5b-9718-44e59c58e31a",
   "metadata": {},
   "outputs": [
    {
     "name": "stdin",
     "output_type": "stream",
     "text": [
      "Enter a word:  Hello\n"
     ]
    },
    {
     "data": {
      "text/plain": [
       "2"
      ]
     },
     "execution_count": 2,
     "metadata": {},
     "output_type": "execute_result"
    }
   ],
   "source": [
    "#Q.2 Write code to count the number of vowels in string.\n",
    "\n",
    "def count_vowels(s):\n",
    "    v = 0\n",
    "    for i in s:\n",
    "        if(i == 'a' or i == 'e' or i == 'i' or i == 'o' or i == 'u' or i == 'A' or i == 'E' or i == 'I' or i == 'O' or i == 'U'):\n",
    "            v += 1\n",
    "    return v\n",
    "\n",
    "str1 = str(input(\"Enter a word: \")) \n",
    "\n",
    "count_vowels(str1)"
   ]
  },
  {
   "cell_type": "code",
   "execution_count": 5,
   "id": "d39e20d4-37d5-4508-8df7-26161a5d1426",
   "metadata": {},
   "outputs": [
    {
     "data": {
      "text/plain": [
       "'This string is not Palindrome string'"
      ]
     },
     "execution_count": 5,
     "metadata": {},
     "output_type": "execute_result"
    }
   ],
   "source": [
    "#Q.3 Write a code to check if given string in palindrome or not.\n",
    "\n",
    "def is_palindrome(str1):\n",
    "    if str1 == str1[::-1]:\n",
    "        return \"This string is a Palindrome string\"\n",
    "\n",
    "    else:\n",
    "        return \"This string is not Palindrome string\"\n",
    "\n",
    "str = \"radar\"\n",
    "\n",
    "is_palindrome(str1)"
   ]
  },
  {
   "cell_type": "code",
   "execution_count": 4,
   "id": "0fc11d72-ae7f-4c7f-ba5a-8297dc6b8349",
   "metadata": {},
   "outputs": [
    {
     "name": "stdout",
     "output_type": "stream",
     "text": [
      "They are Anagrams of each other\n"
     ]
    }
   ],
   "source": [
    "#Q.4 Write a code to check if two given strings are anagrams of each other.\n",
    "\n",
    "def is_anagram(str1, str2):\n",
    "    if sorted(str1) == sorted(str2):\n",
    "        print(\"They are Anagrams of each other\")\n",
    "    else:\n",
    "        print(\"They are not Anagrans of each other\")\n",
    "    \n",
    "\n",
    "str1 = \"listen\"\n",
    "str2 = \"silent\"\n",
    "    \n",
    "is_anagram(str1, str2)"
   ]
  },
  {
   "cell_type": "code",
   "execution_count": 3,
   "id": "a8a0dea1-c8df-40c7-b717-58527b5a15a3",
   "metadata": {},
   "outputs": [
    {
     "name": "stdout",
     "output_type": "stream",
     "text": [
      "All occurrences of 'test' in the text are at indices: [10, 29, 57]\n"
     ]
    }
   ],
   "source": [
    "#Q.5 Write a code to find all occurrencec of a given substring within another string.\n",
    "\n",
    " \n",
    "def find_all_occurrences(text, substring):\n",
    "    occurrences = []\n",
    "    start = 0\n",
    "    while True:\n",
    "        start = text.find(substring, start)\n",
    "        if start == -1:\n",
    "            break\n",
    "        occurrences.append(start)\n",
    "        start += 1\n",
    "    \n",
    "    return occurrences\n",
    "\n",
    "\n",
    "text = \"This is a test string. Let's test the function with this test string.\"\n",
    "substring = \"test\"\n",
    "occurrences = find_all_occurrences(text, substring)\n",
    "print(f\"All occurrences of '{substring}' in the text are at indices: {occurrences}\")"
   ]
  },
  {
   "cell_type": "code",
   "execution_count": 2,
   "id": "f1c69987-bd93-4f75-b085-ba8bce5cd1d9",
   "metadata": {},
   "outputs": [
    {
     "name": "stdout",
     "output_type": "stream",
     "text": [
      "Compressed string: a2b1c5a3\n"
     ]
    }
   ],
   "source": [
    "#Q.6 Write a code to perform basic string compression using the counts of repeated characters.\n",
    "\n",
    "def compress_string(input_string):\n",
    "    compressed_string = []\n",
    "    count_consecutive = 0\n",
    "\n",
    "    for i in range(len(input_string)):\n",
    "        count_consecutive += 1\n",
    "\n",
    "        if i + 1 >= len(input_string) or input_string[i] != input_string[i + 1]:\n",
    "            compressed_string.append(input_string[i])\n",
    "            compressed_string.append(str(count_consecutive))\n",
    "            count_consecutive = 0\n",
    "\n",
    "    compressed_result = ''.join(compressed_string)\n",
    "    return compressed_result if len(compressed_result) < len(input_string) else input_string\n",
    "\n",
    "# Example usage\n",
    "input_string = \"aabcccccaaa\"\n",
    "compressed = compress_string(input_string)\n",
    "print(f\"Compressed string: {compressed}\")\n"
   ]
  },
  {
   "cell_type": "code",
   "execution_count": 6,
   "id": "a0feaf8b-c411-4291-a14f-f54ce6f113ff",
   "metadata": {},
   "outputs": [
    {
     "name": "stdout",
     "output_type": "stream",
     "text": [
      "String: abcdefg\n",
      "Has Unique Characters: True\n"
     ]
    }
   ],
   "source": [
    "#Q.7 Write a code to determine if a string has all unique characters.\n",
    "\n",
    "def has_unique_characters(s):\n",
    "    seen = set()\n",
    "    for char in s:\n",
    "        if char in seen:\n",
    "            return False\n",
    "        seen.add(char)\n",
    "    return True\n",
    "\n",
    "s = \"abcdefg\"\n",
    "print(\"String:\", s)\n",
    "print(\"Has Unique Characters:\", has_unique_characters(s))"
   ]
  },
  {
   "cell_type": "code",
   "execution_count": 13,
   "id": "4172584a-4334-4799-bc10-d52e9b21d3e9",
   "metadata": {},
   "outputs": [
    {
     "name": "stdout",
     "output_type": "stream",
     "text": [
      "HELLO\n",
      "hello\n"
     ]
    }
   ],
   "source": [
    "# Q.8 Write a code to convert a given string to uppercase or lowercase.\n",
    "\n",
    "def uppercase(str1):\n",
    "    a = str1.upper()\n",
    "    return a\n",
    "    \n",
    "def lowercase(str1):\n",
    "    b = str1.lower()\n",
    "    return b\n",
    "    \n",
    "str1 = \"Hello\"\n",
    "\n",
    "print(uppercase(str1))\n",
    "\n",
    "print(lowercase(str1))\n",
    "    "
   ]
  },
  {
   "cell_type": "code",
   "execution_count": 16,
   "id": "a7074a9a-0951-47d5-9824-71ccfe697e4f",
   "metadata": {},
   "outputs": [
    {
     "name": "stdout",
     "output_type": "stream",
     "text": [
      "Number of word in given string:  7\n"
     ]
    }
   ],
   "source": [
    "#Q.9 Write a code to count the number of words in a string.\n",
    "\n",
    "def count(str1):\n",
    "    a = str1.split()\n",
    "    return len(a)\n",
    "\n",
    "str1 = \"Hello World It's a python programming language\"\n",
    "\n",
    "print(\"Number of word in given string: \",count(str1))"
   ]
  },
  {
   "cell_type": "code",
   "execution_count": 19,
   "id": "49b23002-c190-4923-983a-454046edbc7b",
   "metadata": {},
   "outputs": [
    {
     "name": "stdout",
     "output_type": "stream",
     "text": [
      "('Hello', 'World')\n"
     ]
    }
   ],
   "source": [
    "#Q.10 Write a code to concatenate two strings without using the '+' operator\n",
    "\n",
    "def concatenate(str1, str2):\n",
    "    return str1, str2\n",
    "\n",
    "\n",
    "str1 = \"Hello\"\n",
    "str2 = \"World\"\n",
    "\n",
    "print(concatenate(str1, str2))\n"
   ]
  },
  {
   "cell_type": "code",
   "execution_count": 20,
   "id": "5b487d07-28bd-4920-86e9-9bc25b968270",
   "metadata": {},
   "outputs": [
    {
     "name": "stdout",
     "output_type": "stream",
     "text": [
      "Original List: [1, 2, 3, 4, 2, 5, 2]\n",
      "Element to Remove: 2\n",
      "List after Removal: [1, 3, 4, 5]\n"
     ]
    }
   ],
   "source": [
    "#Q.11 Write a code to remove all occurrences of a specific element from a list.\n",
    "\n",
    "\n",
    "lst = [1, 2, 3, 4, 2, 5, 2]\n",
    "element = 2\n",
    "print(\"Original List:\", lst)\n",
    "print(\"Element to Remove:\", element)\n",
    "print(\"List after Removal:\",list(filter(lambda x: x != element, lst)))"
   ]
  },
  {
   "cell_type": "code",
   "execution_count": 22,
   "id": "5ff91ab3-ce35-4a6d-a417-b0f46e9ab97e",
   "metadata": {},
   "outputs": [
    {
     "data": {
      "text/plain": [
       "6"
      ]
     },
     "execution_count": 22,
     "metadata": {},
     "output_type": "execute_result"
    }
   ],
   "source": [
    "#Q.12 Implement a code to find the second largest number in a given list of integers.\n",
    "\n",
    "def find_second_largest(l):\n",
    "    l.sort()\n",
    "    return l[-2]\n",
    "\n",
    "l = [1, 4, 3, 5, 8, 6]\n",
    "\n",
    "find_second_largest(l)"
   ]
  },
  {
   "cell_type": "code",
   "execution_count": 27,
   "id": "8ab77fd8-2e62-44fd-b4d8-eeb19e59333b",
   "metadata": {},
   "outputs": [
    {
     "data": {
      "text/plain": [
       "{'apple': 3, 'banana': 2, 'orange': 1}"
      ]
     },
     "execution_count": 27,
     "metadata": {},
     "output_type": "execute_result"
    }
   ],
   "source": [
    "#Q.13 Create a code to count the occurrences of each element in a list and return a dictionary with elements as keys and their counts as values.\n",
    "\n",
    "\n",
    "def lst_dict(lst):\n",
    "    count_dict = {}\n",
    "    for element in lst:\n",
    "        if element in count_dict:\n",
    "            count_dict[element] += 1\n",
    "        else:\n",
    "            count_dict[element] = 1\n",
    "\n",
    "    return count_dict\n",
    "\n",
    "lst = ['apple', 'banana', 'apple', 'orange', 'banana', 'apple']\n",
    "\n",
    "lst_dict(lst)"
   ]
  },
  {
   "cell_type": "code",
   "execution_count": 1,
   "id": "f46dd31c-7029-492b-b437-c6d2d2cabbc4",
   "metadata": {},
   "outputs": [
    {
     "data": {
      "text/plain": [
       "[5, 4, 3, 2, 1]"
      ]
     },
     "execution_count": 1,
     "metadata": {},
     "output_type": "execute_result"
    }
   ],
   "source": [
    "#Q.14 Write a code to reverse a list in-place without using any built-in reverse functions.\n",
    "\n",
    "def reverse(lst):\n",
    "    left = 0\n",
    "    right = len(lst) - 1\n",
    "\n",
    "    while left < right:\n",
    "        lst[left], lst[right] = lst[right], lst[left]\n",
    "        left += 1\n",
    "        right -= 1\n",
    "\n",
    "    return lst\n",
    "\n",
    "\n",
    "\n",
    "lst = [1, 2, 3, 4, 5]\n",
    "\n",
    "reverse(lst)"
   ]
  },
  {
   "cell_type": "code",
   "execution_count": 3,
   "id": "e1b09b50-110f-4417-8767-1d28519c92a4",
   "metadata": {},
   "outputs": [
    {
     "data": {
      "text/plain": [
       "[1, 2, 3, 4, 5, 6]"
      ]
     },
     "execution_count": 3,
     "metadata": {},
     "output_type": "execute_result"
    }
   ],
   "source": [
    "#Q.15 Implement a code to find and remove duplicates from a list while preserving the original order of elements.\n",
    "\n",
    "def remove_duplicates(lst):\n",
    "    seen = set()\n",
    "    result = []\n",
    "\n",
    "\n",
    "    for item in lst:\n",
    "        if item not in seen:\n",
    "            result.append(item)\n",
    "            seen.add(item)\n",
    "\n",
    "    return result\n",
    "\n",
    "lst = [1, 2, 2, 3, 4, 4, 5, 1, 6]\n",
    "\n",
    "\n",
    "remove_duplicates(lst)"
   ]
  },
  {
   "cell_type": "code",
   "execution_count": 7,
   "id": "b2302640-d59c-47e7-a81f-5637018b495e",
   "metadata": {},
   "outputs": [
    {
     "data": {
      "text/plain": [
       "'List is sorted in Ascending order'"
      ]
     },
     "execution_count": 7,
     "metadata": {},
     "output_type": "execute_result"
    }
   ],
   "source": [
    "#Q.16 Create a code to check if a given list is sorted (either in ascending or descending order) or not.\n",
    "\n",
    "\n",
    "def check_sort(l):\n",
    "    if l == sorted(l):\n",
    "        return \"List is sorted in Ascending order\"\n",
    "    elif l == sorted(l, reverse=True):\n",
    "        return \"List is sorted in Descending order\"\n",
    "    else:\n",
    "        return \"List is not sorted\"\n",
    "    \n",
    "l = [1, 5, 7, 9]\n",
    "\n",
    "check_sort(l)    "
   ]
  },
  {
   "cell_type": "code",
   "execution_count": 8,
   "id": "52a2fe28-fe96-4968-8383-dc3693df1355",
   "metadata": {},
   "outputs": [
    {
     "data": {
      "text/plain": [
       "[1, 2, 3, 4, 5, 6, 7, 8, 9]"
      ]
     },
     "execution_count": 8,
     "metadata": {},
     "output_type": "execute_result"
    }
   ],
   "source": [
    "#Q.17 Write a code to merge two sorted lists into s single sorted list.\n",
    "\n",
    "\n",
    "def sorted_list(l1, l2):\n",
    "    l1.sort()\n",
    "    l2.sort()\n",
    "    l3 = l1 + l2\n",
    "    l3.sort()\n",
    "    return l3\n",
    "\n",
    "\n",
    "\n",
    "l1 = [2, 4, 3, 6, 5, 9]\n",
    "\n",
    "l2 = [1, 8, 7]\n",
    "\n",
    "\n",
    "sorted_list(l1, l2)"
   ]
  },
  {
   "cell_type": "code",
   "execution_count": 9,
   "id": "c3d71481-6145-4e38-81eb-ec09c1f146ce",
   "metadata": {},
   "outputs": [
    {
     "name": "stdout",
     "output_type": "stream",
     "text": [
      "[4, 5]\n"
     ]
    }
   ],
   "source": [
    "#Q.18 Implement a code to find the intersection of two given lists.\n",
    "\n",
    "def intersection(list1, list2):\n",
    "    return [item for item in list1 if item in list2]\n",
    "\n",
    "\n",
    "list1 = [1, 2, 3, 4, 5]\n",
    "list2 = [4, 5, 6, 7, 8]\n",
    "print(intersection(list1, list2))"
   ]
  },
  {
   "cell_type": "code",
   "execution_count": 11,
   "id": "930f3a8d-2685-47d5-8d48-99bfd6d2100c",
   "metadata": {},
   "outputs": [
    {
     "name": "stdout",
     "output_type": "stream",
     "text": [
      "Original list: [1, 2, 3, 4, 5]\n",
      "Shuffled list: [1, 5, 3, 4, 2]\n"
     ]
    }
   ],
   "source": [
    "#Q.20 Write a code to shuffle a given list randomly without using any built-in shuffle functions.\n",
    "\n",
    "import random\n",
    "lst = [1, 2, 3, 4, 5]\n",
    "\n",
    "def shuffle(lst):\n",
    "    shuffled_lst = lst[:]\n",
    "\n",
    "    n = len(shuffled_lst)\n",
    "\n",
    "    for i in range(n-1, 0, -1):\n",
    "        j = random.randint(0, i)\n",
    "\n",
    "        shuffled_lst[i], shuffled_lst[j] = shuffled_lst[j], shuffled_lst[i]\n",
    "\n",
    "    print(\"Original list:\", lst)\n",
    "    print(\"Shuffled list:\", shuffled_lst)\n",
    "\n",
    "\n",
    "shuffle(lst)"
   ]
  },
  {
   "cell_type": "code",
   "execution_count": 12,
   "id": "0e4f7e96-d9a6-47d7-b1cb-a553f2ade948",
   "metadata": {},
   "outputs": [
    {
     "name": "stdout",
     "output_type": "stream",
     "text": [
      "(4, 5)\n"
     ]
    }
   ],
   "source": [
    "#Q.21 Write a code that takes two tuples as input and returns a new tuple containing elements that are common to both input tuples.\n",
    "\n",
    "def common_elements(tuple1, tuple2):\n",
    "    set1 = set(tuple1)\n",
    "    set2 = set(tuple2)\n",
    "\n",
    "    common_set = set1.intersection(set2)\n",
    "\n",
    "    common_tuple = tuple(common_set)\n",
    "\n",
    "    return common_tuple\n",
    "\n",
    "tuple1 = (1, 2, 3, 4, 5)\n",
    "tuple2 = (4, 5, 6, 7, 8)\n",
    "result = common_elements(tuple1, tuple2)\n",
    "print(result)  "
   ]
  },
  {
   "cell_type": "code",
   "execution_count": 13,
   "id": "f6c12df2-ce77-4e24-82e8-cf89683e7e40",
   "metadata": {},
   "outputs": [
    {
     "name": "stdout",
     "output_type": "stream",
     "text": [
      "Enter integers for the first set:\n"
     ]
    },
    {
     "name": "stdin",
     "output_type": "stream",
     "text": [
      "Enter integers separated by commas (e.g., 1,2,3):  1, 4, 6\n"
     ]
    },
    {
     "name": "stdout",
     "output_type": "stream",
     "text": [
      "\n",
      "Enter integers for the second set:\n"
     ]
    },
    {
     "name": "stdin",
     "output_type": "stream",
     "text": [
      "Enter integers separated by commas (e.g., 1,2,3):  3,4,5\n"
     ]
    },
    {
     "name": "stdout",
     "output_type": "stream",
     "text": [
      "\n",
      "Intersection of the two sets: {4}\n"
     ]
    }
   ],
   "source": [
    "#Q.22 Create a code that prompts the user to enter two sets of integers separated by commas. Then, print the intersection of these two sets.\n",
    "\n",
    "def get_integer_set_from_input():\n",
    "    input_str = input(\"Enter integers separated by commas (e.g., 1,2,3): \")\n",
    "    integer_list = input_str.split(\",\")\n",
    "    integer_set = set()\n",
    "    for num_str in integer_list:\n",
    "        try:\n",
    "            num = int(num_str.strip())\n",
    "            integer_set.add(num)\n",
    "        except ValueError:\n",
    "            print(\"Invalid input: '{}' is not a valid integer.\".format(num_str.strip()))\n",
    "    return integer_set\n",
    "\n",
    "def main():\n",
    "    print(\"Enter integers for the first set:\")\n",
    "    set1 = get_integer_set_from_input()\n",
    "\n",
    "    print(\"\\nEnter integers for the second set:\")\n",
    "    set2 = get_integer_set_from_input()\n",
    "\n",
    "    intersection_set = set1.intersection(set2)\n",
    "    print(\"\\nIntersection of the two sets:\", intersection_set)\n",
    "\n",
    "\n",
    "main()"
   ]
  },
  {
   "cell_type": "code",
   "execution_count": 14,
   "id": "d46eecc2-1b19-4b0e-aed9-3fd7081859d0",
   "metadata": {},
   "outputs": [
    {
     "data": {
      "text/plain": [
       "(2, 3, 4, 1, 5, 6)"
      ]
     },
     "execution_count": 14,
     "metadata": {},
     "output_type": "execute_result"
    }
   ],
   "source": [
    "#Q.23 Write a code to concatenate two tuple . The function should take two tuple a input and return a new tuple containing element from both input tuple.\n",
    "\n",
    "def concatenate_tuples(t1, t2):\n",
    "    return t1 + t2\n",
    "\n",
    "t1 = (2, 3, 4)\n",
    "\n",
    "t2 = (1,5,6)\n",
    "concatenate_tuples(t1, t2)"
   ]
  },
  {
   "cell_type": "code",
   "execution_count": 16,
   "id": "2d708e03-a0d3-46a5-99ec-47b4d48da9eb",
   "metadata": {},
   "outputs": [
    {
     "name": "stdin",
     "output_type": "stream",
     "text": [
      "Enter the first set of strings (separated by spaces):  Hello World I am Python\n",
      "Enter the second set of strings (separated by spaces):  I am Python\n"
     ]
    },
    {
     "name": "stdout",
     "output_type": "stream",
     "text": [
      "Elements present in the first set but not in the second set: {'World', 'Hello'}\n"
     ]
    }
   ],
   "source": [
    "#Q.24 Develop a code that prompts the user to input two sets of strings. Then print the elements that are present in the first set but not in the second set.\n",
    "\n",
    "def get_set_from_user(s):\n",
    "    user_input = input(s)\n",
    "    user_set = set(user_input.split())\n",
    "    return user_set\n",
    "\n",
    "set1 = get_set_from_user(\"Enter the first set of strings (separated by spaces): \")\n",
    "set2 = get_set_from_user(\"Enter the second set of strings (separated by spaces): \")\n",
    "\n",
    "difference = set1 - set2\n",
    "\n",
    "print(\"Elements present in the first set but not in the second set:\", difference)\n"
   ]
  },
  {
   "cell_type": "code",
   "execution_count": 17,
   "id": "47408e66-a1be-480e-a34e-3e08662b5520",
   "metadata": {},
   "outputs": [
    {
     "data": {
      "text/plain": [
       "(3, 4, 5)"
      ]
     },
     "execution_count": 17,
     "metadata": {},
     "output_type": "execute_result"
    }
   ],
   "source": [
    "#Q.25 Create a code that takes a tuple and two integers as input. The function should return a new tuple containing elements from the original tuple within the specified range of indices.\n",
    "\n",
    "def tup(t, i1, i2):\n",
    "    return (t[i1:i2])\n",
    "\n",
    "t = (2,7,3,4,5)\n",
    "\n",
    "i1 = 2\n",
    "\n",
    "i2 = 5\n",
    "\n",
    "tup(t, i1, i2)"
   ]
  },
  {
   "cell_type": "code",
   "execution_count": 18,
   "id": "7fe845d6-bfe5-4e77-9373-68cc2098acf1",
   "metadata": {},
   "outputs": [
    {
     "name": "stdin",
     "output_type": "stream",
     "text": [
      "Enter the first set of characters:  Hello\n",
      "Enter the second set of characters:  World\n"
     ]
    },
    {
     "name": "stdout",
     "output_type": "stream",
     "text": [
      "The union of the two sets is: {'l', 'W', 'o', 'H', 'e', 'r', 'd'}\n"
     ]
    }
   ],
   "source": [
    "#Q.26 Write a code that prompts the user to input two sets of characters. Then print the union of these two sets.\n",
    "\n",
    "def get_character_set(prompt):\n",
    "    user_input = input(prompt)\n",
    "    char_set = set(user_input)\n",
    "    return char_set\n",
    "\n",
    "set1 = get_character_set(\"Enter the first set of characters: \")\n",
    "\n",
    "set2 = get_character_set(\"Enter the second set of characters: \")\n",
    "\n",
    "\n",
    "union_set = set1.union(set2)\n",
    "\n",
    "\n",
    "print(\"The union of the two sets is:\", union_set)\n"
   ]
  },
  {
   "cell_type": "code",
   "execution_count": 21,
   "id": "84128274-9295-4c0d-a9fa-b874538db8bd",
   "metadata": {},
   "outputs": [
    {
     "name": "stdin",
     "output_type": "stream",
     "text": [
      "Enter a tuple of integers separated by commas:  5,6,8,4\n"
     ]
    },
    {
     "name": "stdout",
     "output_type": "stream",
     "text": [
      "The maximum value is: 8\n",
      "The minimum value is: 4\n"
     ]
    }
   ],
   "source": [
    "#Q.27 Develop a code that takes a tuple of integers as input. The function should return the maximum and minimum values from the tuple using tuple unpacking.\n",
    "\n",
    "def find_max_min():\n",
    "    user_input = input(\"Enter a tuple of integers separated by commas: \")\n",
    "    number = tuple(map(int, user_input.split(',')))\n",
    "    print(f\"The maximum value is: {max(number)}\")\n",
    "    print(f\"The minimum value is: {min(number)}\")\n",
    "\n",
    "    \n",
    "    \n",
    "find_max_min()\n",
    "\n",
    "\n"
   ]
  }
 ],
 "metadata": {
  "kernelspec": {
   "display_name": "Python 3 (ipykernel)",
   "language": "python",
   "name": "python3"
  },
  "language_info": {
   "codemirror_mode": {
    "name": "ipython",
    "version": 3
   },
   "file_extension": ".py",
   "mimetype": "text/x-python",
   "name": "python",
   "nbconvert_exporter": "python",
   "pygments_lexer": "ipython3",
   "version": "3.10.8"
  }
 },
 "nbformat": 4,
 "nbformat_minor": 5
}
